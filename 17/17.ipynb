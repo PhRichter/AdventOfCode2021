{
 "cells": [
  {
   "cell_type": "raw",
   "id": "756f8c99-65ce-42c8-8e60-92ac682693e5",
   "metadata": {
    "id": "756f8c99-65ce-42c8-8e60-92ac682693e5"
   },
   "source": [
    "--- Day 17: Trick Shot ---\n",
    "\n",
    "You finally decode the Elves' message. HI, the message says. You continue searching for the sleigh keys.\n",
    "\n",
    "Ahead of you is what appears to be a large ocean trench. Could the keys have fallen into it? You'd better send a probe to investigate.\n",
    "\n",
    "The probe launcher on your submarine can fire the probe with any integer velocity in the x (forward) and y (upward, or downward if negative) directions. For example, an initial x,y velocity like 0,10 would fire the probe straight up, while an initial velocity like 10,-1 would fire the probe forward at a slight downward angle.\n",
    "\n",
    "The probe's x,y position starts at 0,0. Then, it will follow some trajectory by moving in steps. On each step, these changes occur in the following order:\n",
    "\n",
    "    The probe's x position increases by its x velocity.\n",
    "    The probe's y position increases by its y velocity.\n",
    "    Due to drag, the probe's x velocity changes by 1 toward the value 0; that is, it decreases by 1 if it is greater than 0, increases by 1 if it is less than 0, or does not change if it is already 0.\n",
    "    Due to gravity, the probe's y velocity decreases by 1.\n",
    "\n",
    "For the probe to successfully make it into the trench, the probe must be on some trajectory that causes it to be within a target area after any step. The submarine computer has already calculated this target area (your puzzle input). For example:\n",
    "\n",
    "target area: x=20..30, y=-10..-5\n",
    "\n",
    "This target area means that you need to find initial x,y velocity values such that after any step, the probe's x position is at least 20 and at most 30, and the probe's y position is at least -10 and at most -5.\n",
    "\n",
    "Given this target area, one initial velocity that causes the probe to be within the target area after any step is 7,2:\n",
    "\n",
    ".............#....#............\n",
    ".......#..............#........\n",
    "...............................\n",
    "S........................#.....\n",
    "...............................\n",
    "...............................\n",
    "...........................#...\n",
    "...............................\n",
    "....................TTTTTTTTTTT\n",
    "....................TTTTTTTTTTT\n",
    "....................TTTTTTTT#TT\n",
    "....................TTTTTTTTTTT\n",
    "....................TTTTTTTTTTT\n",
    "....................TTTTTTTTTTT\n",
    "\n",
    "In this diagram, S is the probe's initial position, 0,0. The x coordinate increases to the right, and the y coordinate increases upward. In the bottom right, positions that are within the target area are shown as T. After each step (until the target area is reached), the position of the probe is marked with #. (The bottom-right # is both a position the probe reaches and a position in the target area.)\n",
    "\n",
    "Another initial velocity that causes the probe to be within the target area after any step is 6,3:\n",
    "\n",
    "...............#..#............\n",
    "...........#........#..........\n",
    "...............................\n",
    "......#..............#.........\n",
    "...............................\n",
    "...............................\n",
    "S....................#.........\n",
    "...............................\n",
    "...............................\n",
    "...............................\n",
    ".....................#.........\n",
    "....................TTTTTTTTTTT\n",
    "....................TTTTTTTTTTT\n",
    "....................TTTTTTTTTTT\n",
    "....................TTTTTTTTTTT\n",
    "....................T#TTTTTTTTT\n",
    "....................TTTTTTTTTTT\n",
    "\n",
    "Another one is 9,0:\n",
    "\n",
    "S........#.....................\n",
    ".................#.............\n",
    "...............................\n",
    "........................#......\n",
    "...............................\n",
    "....................TTTTTTTTTTT\n",
    "....................TTTTTTTTTT#\n",
    "....................TTTTTTTTTTT\n",
    "....................TTTTTTTTTTT\n",
    "....................TTTTTTTTTTT\n",
    "....................TTTTTTTTTTT\n",
    "\n",
    "One initial velocity that doesn't cause the probe to be within the target area after any step is 17,-4:\n",
    "\n",
    "S..............................................................\n",
    "...............................................................\n",
    "...............................................................\n",
    "...............................................................\n",
    ".................#.............................................\n",
    "....................TTTTTTTTTTT................................\n",
    "....................TTTTTTTTTTT................................\n",
    "....................TTTTTTTTTTT................................\n",
    "....................TTTTTTTTTTT................................\n",
    "....................TTTTTTTTTTT..#.............................\n",
    "....................TTTTTTTTTTT................................\n",
    "...............................................................\n",
    "...............................................................\n",
    "...............................................................\n",
    "...............................................................\n",
    "................................................#..............\n",
    "...............................................................\n",
    "...............................................................\n",
    "...............................................................\n",
    "...............................................................\n",
    "...............................................................\n",
    "...............................................................\n",
    "..............................................................#\n",
    "\n",
    "The probe appears to pass through the target area, but is never within it after any step. Instead, it continues down and to the right - only the first few steps are shown.\n",
    "\n",
    "If you're going to fire a highly scientific probe out of a super cool probe launcher, you might as well do it with style. How high can you make the probe go while still reaching the target area?\n",
    "\n",
    "In the above example, using an initial velocity of 6,9 is the best you can do, causing the probe to reach a maximum y position of 45. (Any higher initial y velocity causes the probe to overshoot the target area entirely.)\n",
    "\n",
    "Find the initial velocity that causes the probe to reach the highest y position and still eventually be within the target area after any step. What is the highest y position it reaches on this trajectory?\n"
   ]
  },
  {
   "cell_type": "code",
   "execution_count": 1,
   "id": "d5c761c2-4445-47b2-8a7f-198a63c89e2a",
   "metadata": {
    "id": "d5c761c2-4445-47b2-8a7f-198a63c89e2a"
   },
   "outputs": [],
   "source": [
    "#puzzle_input = \"target area: x=117..164, y=-140..-89\""
   ]
  },
  {
   "cell_type": "code",
   "execution_count": 2,
   "id": "32489dff-cba0-40b9-8085-39f5ba571841",
   "metadata": {},
   "outputs": [],
   "source": [
    "#Änderung der Geschwindigkeit pro Zug\n",
    "# x-Geschwindigkeit geht um 1 in Richtung 0 (falls ungleich 0)\n",
    "# y-Geschwindigkeit wird um 1 verringert\n",
    "# Positonen (x,y) werden um die entsprechende Geschwindigkeit geändert"
   ]
  },
  {
   "cell_type": "code",
   "execution_count": 3,
   "id": "55b70e23-a850-4e24-a0a3-2d96cdd9b5bf",
   "metadata": {},
   "outputs": [
    {
     "data": {
      "text/plain": [
       "9730.0"
      ]
     },
     "execution_count": 3,
     "metadata": {},
     "output_type": "execute_result"
    }
   ],
   "source": [
    "#Teil 1: x-Geschwindigkeit ist egal. Ich muss nur über dem Zielfeld sein und dann muss v_x = 0 sein. Wichtig ist nur v_y. Der\n",
    "#höchste Punkt ist bei v_y=0 erreicht. Beim Erreichen von y=0 habe ich also die selbe Geschwindigkeit wie nach einem Schritt.\n",
    "#Ich muss also die Startgeschwindigkeit so wählen, dass ich maximal tief das Zielfeld erreiche\n",
    "import numpy as np\n",
    "np.sum(np.linspace(0, 140, 141))-140"
   ]
  },
  {
   "cell_type": "code",
   "execution_count": 4,
   "id": "4aa30526-a047-4467-9d7a-24f4f958ba1e",
   "metadata": {},
   "outputs": [
    {
     "name": "stdout",
     "output_type": "stream",
     "text": [
      "4110\n"
     ]
    }
   ],
   "source": [
    "#Teil 2\n",
    "x_min = 117\n",
    "x_max = 164\n",
    "\n",
    "#Finde heraus, für welche v_x0 das Ziel erreicht werden kann und wieviele Schritte dazu notwendig sind\n",
    "steps_arr = []\n",
    "v_x_possible = []\n",
    "for v_x0 in range(1,x_max+1):#Wenn v_x0 schneller wird, überschießt man immer\n",
    "    v_x_init = v_x0\n",
    "    x = [0]\n",
    "    while v_x_init >= 0:\n",
    "        x.append(x[-1] + v_x_init)\n",
    "        v_x_init -= 1\n",
    "    x = np.array(x)\n",
    "\n",
    "    steps = np.where((x >= x_min) & (x <= x_max))[0]\n",
    "    if steps.size != 0:\n",
    "        steps_arr.append(steps)\n",
    "        v_x_possible.append(v_x0)\n",
    "        \n",
    "anzahl_geschwindigkeiten = len(v_x_possible)\n",
    "\n",
    "#Finde heraus, welche v_y0 jeweils möglich sind\n",
    "y_min = -140\n",
    "y_max = -89\n",
    "v_init_arr = []\n",
    "for possibility in range(anzahl_geschwindigkeiten):\n",
    "    for steps in steps_arr:\n",
    "        for step in steps:\n",
    "            #Für jede Startgeschwindigkeit gehe die Anzahl der Schritt\n",
    "            for v_y0 in range(-300, 300):\n",
    "                v_y_init = v_y0\n",
    "                v_x_init = v_x_possible[possibility]\n",
    "                x = 0\n",
    "                y = 0\n",
    "                i = 0\n",
    "                while not (v_x_init == 0 and x < x_min) and not (x > x_max) and not (i > step and v_x_init != 0) and not \\\n",
    "                        (y < y_min):\n",
    "                    i += 1\n",
    "                    x += v_x_init\n",
    "                    y += v_y_init\n",
    "                    v_y_init -= 1\n",
    "                    v_x_init = v_x_init - 1 if v_x_init > 0 else 0\n",
    "                    if x >= x_min and x <= x_max and y >= y_min and y <= y_max: \n",
    "                        v_init_arr.append(str(v_x_possible[possibility])+\",\"+str(v_y0)) \n",
    "                        break\n",
    "print(len(list(set(v_init_arr))))"
   ]
  },
  {
   "cell_type": "code",
   "execution_count": null,
   "id": "6e452afa-c940-477a-91d6-233b7f77734d",
   "metadata": {},
   "outputs": [],
   "source": []
  }
 ],
 "metadata": {
  "colab": {
   "name": "17.ipynb",
   "provenance": []
  },
  "kernelspec": {
   "display_name": "Python 3",
   "language": "python",
   "name": "python3"
  },
  "language_info": {
   "codemirror_mode": {
    "name": "ipython",
    "version": 3
   },
   "file_extension": ".py",
   "mimetype": "text/x-python",
   "name": "python",
   "nbconvert_exporter": "python",
   "pygments_lexer": "ipython3",
   "version": "3.8.8"
  }
 },
 "nbformat": 4,
 "nbformat_minor": 5
}
