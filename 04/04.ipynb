{
 "cells": [
  {
   "cell_type": "raw",
   "id": "552b1f2f",
   "metadata": {},
   "source": [
    "--- Day 4: Giant Squid ---\n",
    "\n",
    "You're already almost 1.5km (almost a mile) below the surface of the ocean, already so deep that you can't see any sunlight. What you can see, however, is a giant squid that has attached itself to the outside of your submarine.\n",
    "\n",
    "Maybe it wants to play bingo?\n",
    "\n",
    "Bingo is played on a set of boards each consisting of a 5x5 grid of numbers. Numbers are chosen at random, and the chosen number is marked on all boards on which it appears. (Numbers may not appear on all boards.) If all numbers in any row or any column of a board are marked, that board wins. (Diagonals don't count.)\n",
    "\n",
    "The submarine has a bingo subsystem to help passengers (currently, you and the giant squid) pass the time. It automatically generates a random order in which to draw numbers and a random set of boards (your puzzle input). For example:\n",
    "\n",
    "7,4,9,5,11,17,23,2,0,14,21,24,10,16,13,6,15,25,12,22,18,20,8,19,3,26,1\n",
    "\n",
    "22 13 17 11  0\n",
    " 8  2 23  4 24\n",
    "21  9 14 16  7\n",
    " 6 10  3 18  5\n",
    " 1 12 20 15 19\n",
    "\n",
    " 3 15  0  2 22\n",
    " 9 18 13 17  5\n",
    "19  8  7 25 23\n",
    "20 11 10 24  4\n",
    "14 21 16 12  6\n",
    "\n",
    "14 21 17 24  4\n",
    "10 16 15  9 19\n",
    "18  8 23 26 20\n",
    "22 11 13  6  5\n",
    " 2  0 12  3  7\n",
    " \n",
    "After the first five numbers are drawn (7, 4, 9, 5, and 11), there are no winners, but the boards are marked as follows (shown here adjacent to each other to save space):\n",
    "\n",
    "22 13 17 11  0         3 15  0  2 22        14 21 17 24  4\n",
    " 8  2 23  4 24         9 18 13 17  5        10 16 15  9 19\n",
    "21  9 14 16  7        19  8  7 25 23        18  8 23 26 20\n",
    " 6 10  3 18  5        20 11 10 24  4        22 11 13  6  5\n",
    " 1 12 20 15 19        14 21 16 12  6         2  0 12  3  7\n",
    " \n",
    " After the next six numbers are drawn (17, 23, 2, 0, 14, and 21), there are still no winners:\n",
    "\n",
    "22 13 17 11  0         3 15  0  2 22        14 21 17 24  4\n",
    " 8  2 23  4 24         9 18 13 17  5        10 16 15  9 19\n",
    "21  9 14 16  7        19  8  7 25 23        18  8 23 26 20\n",
    " 6 10  3 18  5        20 11 10 24  4        22 11 13  6  5\n",
    " 1 12 20 15 19        14 21 16 12  6         2  0 12  3  7\n",
    "Finally, 24 is drawn:\n",
    "\n",
    "22 13 17 11  0         3 15  0  2 22        14 21 17 24  4\n",
    " 8  2 23  4 24         9 18 13 17  5        10 16 15  9 19\n",
    "21  9 14 16  7        19  8  7 25 23        18  8 23 26 20\n",
    " 6 10  3 18  5        20 11 10 24  4        22 11 13  6  5\n",
    " 1 12 20 15 19        14 21 16 12  6         2  0 12  3  7\n",
    " \n",
    "At this point, the third board wins because it has at least one complete row or column of marked numbers (in this case, the entire top row is marked: 14 21 17 24 4).\n",
    "\n",
    "The score of the winning board can now be calculated. Start by finding the sum of all unmarked numbers on that board; in this case, the sum is 188. Then, multiply that sum by the number that was just called when the board won, 24, to get the final score, 188 * 24 = 4512.\n",
    "\n",
    "To guarantee victory against the giant squid, figure out which board will win first. What will your final score be if you choose that board?\n",
    "\n",
    "\n"
   ]
  },
  {
   "cell_type": "code",
   "execution_count": 101,
   "id": "625bea23",
   "metadata": {},
   "outputs": [
    {
     "name": "stdout",
     "output_type": "stream",
     "text": [
      "Result:  87456\n"
     ]
    }
   ],
   "source": [
    "import numpy as np\n",
    "\n",
    "# Fixed input: Erste Zeile ist der Draw, danach n Spielbretter der Größe 5x5\n",
    "def read_bingo(input_):\n",
    "    with open(input_, \"r\") as f:\n",
    "        cont = f.readlines()\n",
    "        \n",
    "    draw = np.array(cont[0].split(\",\"), dtype=int)\n",
    "    i=2\n",
    "    boards = []\n",
    "    while i < len(cont):\n",
    "        boards.append(np.matrix(np.loadtxt(input_, skiprows=i, max_rows=5)))\n",
    "        i+=6\n",
    "\n",
    "    return draw, np.array(boards)\n",
    "\n",
    "def check_win(board):\n",
    "    #Vertikal oder Horizontal\n",
    "    i = 0\n",
    "    while not (np.where(board[i,:] == -1)[-1].size == 5 \\\n",
    "              or np.where(board[:,i] == -1)[-1].size == 5 \\\n",
    "              or np.where(board[:,i] == -1)[-1].size == 5):\n",
    "        i += 1\n",
    "        if i == 5: break\n",
    "    else:\n",
    "        return True\n",
    "        \n",
    "    # Diagonal\n",
    "    a = np.where(np.array([boards[0][i,i] for i in range(5)]) == -1)[0].size == 5\n",
    "    b = np.where(np.array([boards[0][4-i,i] for i in range(5)]) == -1)[0].size == 5\n",
    "    return a or b\n",
    "\n",
    "def calc_result(board, number):\n",
    "    print(\"Result: \", int(np.sum(board[board != -1])*number))\n",
    "    \n",
    "draw, boards = read_bingo(\"input.txt\")\n",
    "won = False\n",
    "for number in draw:\n",
    "    for i in range(len(boards)):\n",
    "        boards[i][np.where(boards[i] == number)] = -1\n",
    "        won = check_win(boards[i])\n",
    "        if won:\n",
    "            calc_result(boards[i], number)\n",
    "            break\n",
    "    if won: break\n"
   ]
  },
  {
   "cell_type": "raw",
   "id": "642cce1d",
   "metadata": {},
   "source": [
    "--- Part Two ---\n",
    "\n",
    "On the other hand, it might be wise to try a different strategy: let the giant squid win.\n",
    "\n",
    "You aren't sure how many bingo boards a giant squid could play at once, so rather than waste time counting its arms, the safe thing to do is to figure out which board will win last and choose that one. That way, no matter which boards it picks, it will win for sure.\n",
    "\n",
    "In the above example, the second board is the last to win, which happens after 13 is eventually called and its middle column is completely marked. If you were to keep playing until this point, the second board would have a sum of unmarked numbers equal to 148 for a final score of 148 * 13 = 1924.\n",
    "\n",
    "Figure out which board will win last. Once it wins, what would its final score be?"
   ]
  },
  {
   "cell_type": "code",
   "execution_count": 157,
   "id": "a0f1327e",
   "metadata": {},
   "outputs": [
    {
     "name": "stdout",
     "output_type": "stream",
     "text": [
      "[[[46. -1. -1. 86. -1.]\n",
      "  [-1. -1. -1. -1. 53.]\n",
      "  [-1. -1. -1. -1. -1.]\n",
      "  [-1. 95. -1. -1. -1.]\n",
      "  [28. -1. 91. -1. -1.]]] 39\n",
      "Result:  15561\n"
     ]
    }
   ],
   "source": [
    "draw, boards = read_bingo(\"input.txt\")\n",
    "won = False\n",
    "active_boards = np.ones(len(boards), dtype=int)\n",
    "for number in draw:\n",
    "    for i in range(len(boards)):\n",
    "        boards[i][np.where(boards[i] == number)] = -1\n",
    "        won = check_win(boards[i]) and active_boards[i] == 1\n",
    "        if won and np.sum(active_boards) > 1: \n",
    "            active_boards[i] = 0\n",
    "        elif won and np.sum(active_boards) == 1:\n",
    "            calc_result(boards[active_boards==True], number)\n",
    "            break\n",
    "    if won and np.sum(active_boards) == 1: break"
   ]
  },
  {
   "cell_type": "code",
   "execution_count": null,
   "id": "5f7962eb",
   "metadata": {},
   "outputs": [],
   "source": []
  }
 ],
 "metadata": {
  "kernelspec": {
   "display_name": "Python 3",
   "language": "python",
   "name": "python3"
  },
  "language_info": {
   "codemirror_mode": {
    "name": "ipython",
    "version": 3
   },
   "file_extension": ".py",
   "mimetype": "text/x-python",
   "name": "python",
   "nbconvert_exporter": "python",
   "pygments_lexer": "ipython3",
   "version": "3.8.8"
  }
 },
 "nbformat": 4,
 "nbformat_minor": 5
}
