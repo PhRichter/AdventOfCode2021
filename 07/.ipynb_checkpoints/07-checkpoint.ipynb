{
 "cells": [
  {
   "cell_type": "raw",
   "id": "56f8a7e6",
   "metadata": {},
   "source": [
    "--- Day 7: The Treachery of Whales ---\n",
    "\n",
    "A giant whale has decided your submarine is its next meal, and it's much faster than you are. There's nowhere to run!\n",
    "\n",
    "Suddenly, a swarm of crabs (each in its own tiny submarine - it's too deep for them otherwise) zooms in to rescue you! They seem to be preparing to blast a hole in the ocean floor; sensors indicate a massive underground cave system just beyond where they're aiming!\n",
    "\n",
    "The crab submarines all need to be aligned before they'll have enough power to blast a large enough hole for your submarine to get through. However, it doesn't look like they'll be aligned before the whale catches you! Maybe you can help?\n",
    "\n",
    "There's one major catch - crab submarines can only move horizontally.\n",
    "\n",
    "You quickly make a list of the horizontal position of each crab (your puzzle input). Crab submarines have limited fuel, so you need to find a way to make all of their horizontal positions match while requiring them to spend as little fuel as possible.\n",
    "\n",
    "For example, consider the following horizontal positions:\n",
    "\n",
    "16,1,2,0,4,2,7,1,2,14\n",
    "This means there's a crab with horizontal position 16, a crab with horizontal position 1, and so on.\n",
    "\n",
    "Each change of 1 step in horizontal position of a single crab costs 1 fuel. You could choose any horizontal position to align them all on, but the one that costs the least fuel is horizontal position 2:\n",
    "\n",
    "Move from 16 to 2: 14 fuel\n",
    "Move from 1 to 2: 1 fuel\n",
    "Move from 2 to 2: 0 fuel\n",
    "Move from 0 to 2: 2 fuel\n",
    "Move from 4 to 2: 2 fuel\n",
    "Move from 2 to 2: 0 fuel\n",
    "Move from 7 to 2: 5 fuel\n",
    "Move from 1 to 2: 1 fuel\n",
    "Move from 2 to 2: 0 fuel\n",
    "Move from 14 to 2: 12 fuel\n",
    "This costs a total of 37 fuel. This is the cheapest possible outcome; more expensive outcomes include aligning at position 1 (41 fuel), position 3 (39 fuel), or position 10 (71 fuel).\n",
    "\n",
    "Determine the horizontal position that the crabs can align to using the least fuel possible. How much fuel must they spend to align to that position?"
   ]
  },
  {
   "cell_type": "code",
   "execution_count": 1,
   "id": "11e64c96",
   "metadata": {},
   "outputs": [
    {
     "name": "stdout",
     "output_type": "stream",
     "text": [
      "[16  1  2  0  4  2  7  1  2 14]\n",
      "Best position:  2\n",
      "Fuel needed:  37\n",
      "Best position:  323\n",
      "Fuel needed:  336040\n"
     ]
    }
   ],
   "source": [
    "import numpy as np\n",
    "\n",
    "class DAY_07:\n",
    "    def __init__(self, log):\n",
    "        self.__log = log\n",
    "        self.__positions = np.array([])\n",
    "        self.__least_fuel = 1e308\n",
    "        self.__best_positon = -1\n",
    "        \n",
    "    def read_crab_positions(self):\n",
    "        self.__positions = np.loadtxt(self.__log, delimiter=\",\", dtype=int)\n",
    "        \n",
    "    def show_positions(self):\n",
    "        print(self.__positions)\n",
    "        \n",
    "    def calc_fuel_puzzle_1(self):\n",
    "        for position in range(self.__positions.size):\n",
    "            sum_fuel = np.sum(np.abs(self.__positions - position))\n",
    "            if self.__least_fuel > sum_fuel:\n",
    "                self.__best_position = position\n",
    "                self.__least_fuel = sum_fuel\n",
    "                \n",
    "    def calc_fuel_puzzle_2(self):\n",
    "        for position in range(self.__positions.size):\n",
    "            sum_fuel = 0\n",
    "            steps = np.sum(np.abs(self.__positions - position))\n",
    "            for i in self.__positions:\n",
    "                if np.abs(i-position)+1 == 0:\n",
    "                    sum_fuel += 0\n",
    "                else:\n",
    "                    sum_fuel += np.cumsum(list(range(np.abs(i-position)+1)))[-1]\n",
    "                    if sum_fuel > self.__least_fuel:\n",
    "                        break\n",
    "            if self.__least_fuel > sum_fuel:\n",
    "                self.__best_position = position\n",
    "                self.__least_fuel = sum_fuel\n",
    "\n",
    "    def show_results(self):\n",
    "        print(\"Best position: \", self.__best_position)\n",
    "        print(\"Fuel needed: \", int(self.__least_fuel))\n",
    "        \n",
    "day07_test_1 = DAY_07(\"example.txt\")\n",
    "day07_test_1.read_crab_positions()\n",
    "day07_test_1.show_positions()\n",
    "day07_test_1.calc_fuel_puzzle_1()\n",
    "day07_test_1.show_results()\n",
    "\n",
    "day07_puzzle_1 = DAY_07(\"input.txt\")\n",
    "day07_puzzle_1.read_crab_positions()\n",
    "day07_puzzle_1.calc_fuel_puzzle_1()\n",
    "day07_puzzle_1.show_results()"
   ]
  },
  {
   "cell_type": "raw",
   "id": "1a86b604",
   "metadata": {},
   "source": [
    "--- Part Two ---\n",
    "\n",
    "The crabs don't seem interested in your proposed solution. Perhaps you misunderstand crab engineering?\n",
    "\n",
    "As it turns out, crab submarine engines don't burn fuel at a constant rate. Instead, each change of 1 step in horizontal position costs 1 more unit of fuel than the last: the first step costs 1, the second step costs 2, the third step costs 3, and so on.\n",
    "\n",
    "As each crab moves, moving further becomes more expensive. This changes the best horizontal position to align them all on; in the example above, this becomes 5:\n",
    "\n",
    "Move from 16 to 5: 66 fuel\n",
    "Move from 1 to 5: 10 fuel\n",
    "Move from 2 to 5: 6 fuel\n",
    "Move from 0 to 5: 15 fuel\n",
    "Move from 4 to 5: 1 fuel\n",
    "Move from 2 to 5: 6 fuel\n",
    "Move from 7 to 5: 3 fuel\n",
    "Move from 1 to 5: 10 fuel\n",
    "Move from 2 to 5: 6 fuel\n",
    "Move from 14 to 5: 45 fuel\n",
    "This costs a total of 168 fuel. This is the new cheapest possible outcome; the old alignment position (2) now costs 206 fuel instead.\n",
    "\n",
    "Determine the horizontal position that the crabs can align to using the least fuel possible so they can make you an escape route! How much fuel must they spend to align to that position?"
   ]
  },
  {
   "cell_type": "code",
   "execution_count": 2,
   "id": "2ca8183e",
   "metadata": {},
   "outputs": [
    {
     "name": "stdout",
     "output_type": "stream",
     "text": [
      "[16  1  2  0  4  2  7  1  2 14]\n",
      "Best position:  5\n",
      "Fuel needed:  168\n",
      "Best position:  463\n",
      "Fuel needed:  94813675\n"
     ]
    }
   ],
   "source": [
    "day07_test_2 = DAY_07(\"example.txt\")\n",
    "day07_test_2.read_crab_positions()\n",
    "day07_test_2.show_positions()\n",
    "day07_test_2.calc_fuel_puzzle_2()\n",
    "day07_test_2.show_results()\n",
    "\n",
    "day07_puzzle_2 = DAY_07(\"input.txt\")\n",
    "day07_puzzle_2.read_crab_positions()\n",
    "day07_puzzle_2.calc_fuel_puzzle_2()\n",
    "day07_puzzle_2.show_results()"
   ]
  }
 ],
 "metadata": {
  "kernelspec": {
   "display_name": "Python 3",
   "language": "python",
   "name": "python3"
  },
  "language_info": {
   "codemirror_mode": {
    "name": "ipython",
    "version": 3
   },
   "file_extension": ".py",
   "mimetype": "text/x-python",
   "name": "python",
   "nbconvert_exporter": "python",
   "pygments_lexer": "ipython3",
   "version": "3.8.8"
  }
 },
 "nbformat": 4,
 "nbformat_minor": 5
}
