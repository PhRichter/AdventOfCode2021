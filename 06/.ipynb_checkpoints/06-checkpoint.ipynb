{
 "cells": [
  {
   "cell_type": "raw",
   "id": "52fe544c",
   "metadata": {},
   "source": [
    "--- Day 6: Lanternfish ---\n",
    "\n",
    "The sea floor is getting steeper. Maybe the sleigh keys got carried this way?\n",
    "\n",
    "A massive school of glowing lanternfish swims past. They must spawn quickly to reach such large numbers - maybe exponentially quickly? You should model their growth rate to be sure.\n",
    "\n",
    "Although you know nothing about this specific species of lanternfish, you make some guesses about their attributes. Surely, each lanternfish creates a new lanternfish once every 7 days.\n",
    "\n",
    "However, this process isn't necessarily synchronized between every lanternfish - one lanternfish might have 2 days left until it creates another lanternfish, while another might have 4. So, you can model each fish as a single number that represents the number of days until it creates a new lanternfish.\n",
    "\n",
    "Furthermore, you reason, a new lanternfish would surely need slightly longer before it's capable of producing more lanternfish: two more days for its first cycle.\n",
    "\n",
    "So, suppose you have a lanternfish with an internal timer value of 3:\n",
    "\n",
    "After one day, its internal timer would become 2.\n",
    "After another day, its internal timer would become 1.\n",
    "After another day, its internal timer would become 0.\n",
    "After another day, its internal timer would reset to 6, and it would create a new lanternfish with an internal timer of 8.\n",
    "After another day, the first lanternfish would have an internal timer of 5, and the second lanternfish would have an internal timer of 7.\n",
    "A lanternfish that creates a new fish resets its timer to 6, not 7 (because 0 is included as a valid timer value). The new lanternfish starts with an internal timer of 8 and does not start counting down until the next day.\n",
    "\n",
    "Realizing what you're trying to do, the submarine automatically produces a list of the ages of several hundred nearby lanternfish (your puzzle input). For example, suppose you were given the following list:\n",
    "\n",
    "3,4,3,1,2\n",
    "This list means that the first fish has an internal timer of 3, the second fish has an internal timer of 4, and so on until the fifth fish, which has an internal timer of 2. Simulating these fish over several days would proceed as follows:\n",
    "\n",
    "Initial state: 3,4,3,1,2\n",
    "After  1 day:  2,3,2,0,1\n",
    "After  2 days: 1,2,1,6,0,8\n",
    "After  3 days: 0,1,0,5,6,7,8\n",
    "After  4 days: 6,0,6,4,5,6,7,8,8\n",
    "After  5 days: 5,6,5,3,4,5,6,7,7,8\n",
    "After  6 days: 4,5,4,2,3,4,5,6,6,7\n",
    "After  7 days: 3,4,3,1,2,3,4,5,5,6\n",
    "After  8 days: 2,3,2,0,1,2,3,4,4,5\n",
    "After  9 days: 1,2,1,6,0,1,2,3,3,4,8\n",
    "After 10 days: 0,1,0,5,6,0,1,2,2,3,7,8\n",
    "After 11 days: 6,0,6,4,5,6,0,1,1,2,6,7,8,8,8\n",
    "After 12 days: 5,6,5,3,4,5,6,0,0,1,5,6,7,7,7,8,8\n",
    "After 13 days: 4,5,4,2,3,4,5,6,6,0,4,5,6,6,6,7,7,8,8\n",
    "After 14 days: 3,4,3,1,2,3,4,5,5,6,3,4,5,5,5,6,6,7,7,8\n",
    "After 15 days: 2,3,2,0,1,2,3,4,4,5,2,3,4,4,4,5,5,6,6,7\n",
    "After 16 days: 1,2,1,6,0,1,2,3,3,4,1,2,3,3,3,4,4,5,5,6,8\n",
    "After 17 days: 0,1,0,5,6,0,1,2,2,3,0,1,2,2,2,3,3,4,4,5,7,8\n",
    "After 18 days: 6,0,6,4,5,6,0,1,1,2,6,0,1,1,1,2,2,3,3,4,6,7,8,8,8,8\n",
    "Each day, a 0 becomes a 6 and adds a new 8 to the end of the list, while each other number decreases by 1 if it was present at the start of the day.\n",
    "\n",
    "In this example, after 18 days, there are a total of 26 fish. After 80 days, there would be a total of 5934.\n",
    "\n",
    "Find a way to simulate lanternfish. How many lanternfish would there be after 80 days?"
   ]
  },
  {
   "cell_type": "code",
   "execution_count": 121,
   "id": "903c6fcf",
   "metadata": {},
   "outputs": [
    {
     "name": "stdout",
     "output_type": "stream",
     "text": [
      "{'0': 0, '1': 1, '2': 1, '3': 2, '4': 1, '5': 0, '6': 0, '7': 0, '8': 0, '9': 0}\n",
      "1\n",
      "1\n",
      "2\n",
      "1\n",
      "0\n",
      "0\n",
      "0\n",
      "1\n",
      "1\n",
      "3\n",
      "2\n",
      "2\n",
      "1\n",
      "0\n",
      "1\n",
      "1\n",
      "4\n",
      "3\n",
      "5\n",
      "3\n",
      "2\n",
      "2\n",
      "1\n",
      "5\n",
      "4\n",
      "9\n",
      "6\n",
      "7\n",
      "5\n",
      "3\n",
      "7\n",
      "5\n",
      "14\n",
      "10\n",
      "16\n",
      "11\n",
      "10\n",
      "12\n",
      "8\n",
      "21\n",
      "15\n",
      "30\n",
      "21\n",
      "26\n",
      "23\n",
      "18\n",
      "33\n",
      "23\n",
      "51\n",
      "36\n",
      "56\n",
      "44\n",
      "44\n",
      "56\n",
      "41\n",
      "84\n",
      "59\n",
      "107\n",
      "80\n",
      "100\n",
      "100\n",
      "85\n",
      "140\n",
      "100\n",
      "191\n",
      "139\n",
      "207\n",
      "180\n",
      "185\n",
      "240\n",
      "185\n",
      "331\n",
      "239\n",
      "398\n",
      "319\n",
      "392\n",
      "420\n",
      "370\n",
      "571\n",
      "424\n",
      "5934 [0. 1. 0. ... 8. 8. 8.]\n"
     ]
    },
    {
     "data": {
      "image/png": "[encoded data removed]",
      "text/plain": [
       "<Figure size 432x288 with 1 Axes>"
      ]
     },
     "metadata": {
      "needs_background": "light"
     },
     "output_type": "display_data"
    },
    {
     "name": "stdout",
     "output_type": "stream",
     "text": [
      "{'0': 0, '1': 198, '2': 25, '3': 20, '4': 28, '5': 29, '6': 0, '7': 0, '8': 0, '9': 0}\n",
      "386755 [5. 0. 1. ... 8. 8. 8.]\n"
     ]
    },
    {
     "data": {
      "image/png": "[encoded data removed]",
      "text/plain": [
       "<Figure size 432x288 with 1 Axes>"
      ]
     },
     "metadata": {
      "needs_background": "light"
     },
     "output_type": "display_data"
    }
   ],
   "source": [
    "counter_glob = []\n",
    "\n",
    "import numpy as np\n",
    "import matplotlib.pyplot as plt\n",
    "import scipy.stats\n",
    "\n",
    "class DAY_06:\n",
    "    def __init__(self, input_):\n",
    "        self.__input = input_\n",
    "        self.__fishes = []\n",
    "        self.__fishes_dict = {'0': 0, '1': 0, '2': 0, '3': 0, '4': 0, '5': 0, '6': 0, '7': 0, '8': 0, '9': 0}\n",
    "    def read_input(self):\n",
    "        self.__fish_counter = np.loadtxt(self.__input, delimiter=\",\")\n",
    "        for i in range(10):\n",
    "            self.__fishes_dict['{:d}'.format(i)] += np.where(self.__fish_counter == i)[0].size\n",
    "        print(self.__fishes_dict)\n",
    "        \n",
    "    def new_day_naive(self):\n",
    "        find_zeros = np.where(self.__fish_counter == 0)[0]\n",
    "        if find_zeros.size != 0:\n",
    "            self.__fish_counter[find_zeros] = 7\n",
    "            self.__fish_counter = np.concatenate((self.__fish_counter, [9 for i in range(find_zeros.size)]))\n",
    "        self.__fish_counter -= 1\n",
    "        self.__fishes.append(self.__fish_counter.size)\n",
    "        return self.__fish_counter.size\n",
    "    \n",
    "    def new_day(self):\n",
    "        #1. Kopiere Wert aus 0 in 7 und 9\n",
    "        #2. Verschiebe Wert aus x in x-1\n",
    "        print(np.where(self.__fish_counter == 0)[0].size)\n",
    "        \n",
    "    def show_fish_counter(self):\n",
    "        print(self.__fish_counter.size, self.__fish_counter)\n",
    "        \n",
    "    def plot_counter(self):\n",
    "        plt.plot(np.log(self.__fishes)[:])\n",
    "        plt.grid(True)\n",
    "        plt.show()\n",
    "        \n",
    "day06_test_1 = DAY_06(\"example.txt\")\n",
    "day06_test_1.read_input()\n",
    "for i in range(80):\n",
    "    day06_test_1.new_day_naive()\n",
    "    day06_test_1.new_day()\n",
    "day06_test_1.show_fish_counter()\n",
    "day06_test_1.plot_counter()\n",
    "\n",
    "day06_puzzle_1 = DAY_06(\"input.txt\")\n",
    "day06_puzzle_1.read_input()\n",
    "for i in range(80):\n",
    "    day06_puzzle_1.new_day_naive()\n",
    "day06_puzzle_1.show_fish_counter()\n",
    "day06_puzzle_1.plot_counter()"
   ]
  },
  {
   "cell_type": "raw",
   "id": "9ecd4152",
   "metadata": {},
   "source": [
    "self.__fishes--- Part Two ---\n",
    "\n",
    "Suppose the lanternfish live forever and have unlimited food and space. Would they take over the entire ocean?\n",
    "\n",
    "After 256 days in the example above, there would be a total of 26984457539 lanternfish!\n",
    "\n",
    "How many lanternfish would there be after 256 days?"
   ]
  },
  {
   "cell_type": "code",
   "execution_count": 117,
   "id": "cf9a8b4a",
   "metadata": {},
   "outputs": [
    {
     "name": "stdout",
     "output_type": "stream",
     "text": [
      "0 5 2021-12-06 11:25:24.363267\n",
      "5 [2. 3. 2. 0. 1.]\n",
      "1 6 2021-12-06 11:25:24.364279\n",
      "6 [1. 2. 1. 6. 0. 8.]\n",
      "2 7 2021-12-06 11:25:24.365235\n",
      "7 [0. 1. 0. 5. 6. 7. 8.]\n",
      "3 9 2021-12-06 11:25:24.365872\n",
      "9 [6. 0. 6. 4. 5. 6. 7. 8. 8.]\n",
      "4 10 2021-12-06 11:25:24.366799\n",
      "10 [5. 6. 5. 3. 4. 5. 6. 7. 7. 8.]\n",
      "5 10 2021-12-06 11:25:24.367355\n",
      "10 [4. 5. 4. 2. 3. 4. 5. 6. 6. 7.]\n",
      "6 10 2021-12-06 11:25:24.368192\n",
      "10 [3. 4. 3. 1. 2. 3. 4. 5. 5. 6.]\n",
      "7 10 2021-12-06 11:25:24.368600\n",
      "10 [2. 3. 2. 0. 1. 2. 3. 4. 4. 5.]\n",
      "8 11 2021-12-06 11:25:24.369078\n",
      "11 [1. 2. 1. 6. 0. 1. 2. 3. 3. 4. 8.]\n",
      "9 12 2021-12-06 11:25:24.369984\n",
      "12 [0. 1. 0. 5. 6. 0. 1. 2. 2. 3. 7. 8.]\n",
      "12 [0. 1. 0. 5. 6. 0. 1. 2. 2. 3. 7. 8.]\n"
     ]
    },
    {
     "data": {
      "image/png": "[encoded data removed]",
      "text/plain": [
       "<Figure size 432x288 with 1 Axes>"
      ]
     },
     "metadata": {
      "needs_background": "light"
     },
     "output_type": "display_data"
    }
   ],
   "source": [
    "import datetime as dt\n",
    "day06_test_2 = DAY_06(\"example.txt\")\n",
    "day06_test_2.read_input()\n",
    "for i in range(10):\n",
    "    print(i, day06_test_2.new_day(), dt.datetime.now())\n",
    "    day06_test_2.show_fish_counter()\n",
    "day06_test_2.show_fish_counter()\n",
    "day06_test_2.plot_counter()"
   ]
  },
  {
   "cell_type": "code",
   "execution_count": null,
   "id": "a32fc4d6",
   "metadata": {},
   "outputs": [],
   "source": []
  }
 ],
 "metadata": {
  "kernelspec": {
   "display_name": "Python 3",
   "language": "python",
   "name": "python3"
  },
  "language_info": {
   "codemirror_mode": {
    "name": "ipython",
    "version": 3
   },
   "file_extension": ".py",
   "mimetype": "text/x-python",
   "name": "python",
   "nbconvert_exporter": "python",
   "pygments_lexer": "ipython3",
   "version": "3.8.8"
  }
 },
 "nbformat": 4,
 "nbformat_minor": 5
}
